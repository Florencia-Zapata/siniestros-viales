{
 "cells": [
  {
   "cell_type": "markdown",
   "metadata": {},
   "source": [
    "# ETL - Siniestros Viales"
   ]
  },
  {
   "cell_type": "markdown",
   "metadata": {},
   "source": [
    "Importamos las librerias que utilizaremos en esta etapa del proyecto."
   ]
  },
  {
   "cell_type": "code",
   "execution_count": 915,
   "metadata": {},
   "outputs": [],
   "source": [
    "import pandas as pd\n",
    "import numpy as np\n",
    "import matplotlib.pyplot as plt\n",
    "import seaborn as sns \n"
   ]
  },
  {
   "cell_type": "markdown",
   "metadata": {},
   "source": [
    "## Extracción de Datos:\n",
    "\n",
    "Comenzamos cargando el archivo Excel que contiene dos hojas para luego pasar cada una de ellas a un csv y así trabajamos con ellas con mayor facilidad."
   ]
  },
  {
   "cell_type": "code",
   "execution_count": 916,
   "metadata": {},
   "outputs": [],
   "source": [
    "excel_file = \"homicidios.xlsx\"\n",
    "\n",
    "hechos = pd.read_excel(excel_file, sheet_name=\"HECHOS\")\n",
    "victimas = pd.read_excel(excel_file, sheet_name=\"VICTIMAS\")\n",
    "\n",
    "hechos.to_csv(\"hechos.csv\", index=False)\n",
    "victimas.to_csv(\"victimas.csv\", index=False)"
   ]
  },
  {
   "cell_type": "markdown",
   "metadata": {},
   "source": [
    "**DataFrame**\n",
    "Para trabajar de una manera más ordenada, realizamos el ETL de ambos csv a la par. Creamos por consiguiente el DataFrame de \"hechos\" y el DataFrame de \"victimas\"."
   ]
  },
  {
   "cell_type": "code",
   "execution_count": 917,
   "metadata": {},
   "outputs": [
    {
     "data": {
      "text/html": [
       "<div>\n",
       "<style scoped>\n",
       "    .dataframe tbody tr th:only-of-type {\n",
       "        vertical-align: middle;\n",
       "    }\n",
       "\n",
       "    .dataframe tbody tr th {\n",
       "        vertical-align: top;\n",
       "    }\n",
       "\n",
       "    .dataframe thead th {\n",
       "        text-align: right;\n",
       "    }\n",
       "</style>\n",
       "<table border=\"1\" class=\"dataframe\">\n",
       "  <thead>\n",
       "    <tr style=\"text-align: right;\">\n",
       "      <th></th>\n",
       "      <th>ID</th>\n",
       "      <th>N_VICTIMAS</th>\n",
       "      <th>FECHA</th>\n",
       "      <th>AAAA</th>\n",
       "      <th>MM</th>\n",
       "      <th>DD</th>\n",
       "      <th>HORA</th>\n",
       "      <th>HH</th>\n",
       "      <th>LUGAR_DEL_HECHO</th>\n",
       "      <th>TIPO_DE_CALLE</th>\n",
       "      <th>...</th>\n",
       "      <th>Altura</th>\n",
       "      <th>Cruce</th>\n",
       "      <th>Dirección Normalizada</th>\n",
       "      <th>COMUNA</th>\n",
       "      <th>XY (CABA)</th>\n",
       "      <th>pos x</th>\n",
       "      <th>pos y</th>\n",
       "      <th>PARTICIPANTES</th>\n",
       "      <th>VICTIMA</th>\n",
       "      <th>ACUSADO</th>\n",
       "    </tr>\n",
       "  </thead>\n",
       "  <tbody>\n",
       "    <tr>\n",
       "      <th>0</th>\n",
       "      <td>2016-0001</td>\n",
       "      <td>1</td>\n",
       "      <td>2016-01-01</td>\n",
       "      <td>2016</td>\n",
       "      <td>1</td>\n",
       "      <td>1</td>\n",
       "      <td>04:00:00</td>\n",
       "      <td>4</td>\n",
       "      <td>AV PIEDRA BUENA Y AV FERNANDEZ DE LA CRUZ</td>\n",
       "      <td>AVENIDA</td>\n",
       "      <td>...</td>\n",
       "      <td>NaN</td>\n",
       "      <td>FERNANDEZ DE LA CRUZ, F., GRAL. AV.</td>\n",
       "      <td>PIEDRA BUENA AV. y FERNANDEZ DE LA CRUZ, F., G...</td>\n",
       "      <td>8</td>\n",
       "      <td>Point (98896.78238426 93532.43437792)</td>\n",
       "      <td>-58.47533969</td>\n",
       "      <td>-34.68757022</td>\n",
       "      <td>MOTO-AUTO</td>\n",
       "      <td>MOTO</td>\n",
       "      <td>AUTO</td>\n",
       "    </tr>\n",
       "    <tr>\n",
       "      <th>1</th>\n",
       "      <td>2016-0002</td>\n",
       "      <td>1</td>\n",
       "      <td>2016-01-02</td>\n",
       "      <td>2016</td>\n",
       "      <td>1</td>\n",
       "      <td>2</td>\n",
       "      <td>01:15:00</td>\n",
       "      <td>1</td>\n",
       "      <td>AV GRAL PAZ  Y AV DE LOS CORRALES</td>\n",
       "      <td>GRAL PAZ</td>\n",
       "      <td>...</td>\n",
       "      <td>NaN</td>\n",
       "      <td>DE LOS CORRALES AV.</td>\n",
       "      <td>PAZ, GRAL. AV. y DE LOS CORRALES AV.</td>\n",
       "      <td>9</td>\n",
       "      <td>Point (95832.05571093 95505.41641999)</td>\n",
       "      <td>-58.50877521</td>\n",
       "      <td>-34.66977709</td>\n",
       "      <td>AUTO-PASAJEROS</td>\n",
       "      <td>AUTO</td>\n",
       "      <td>PASAJEROS</td>\n",
       "    </tr>\n",
       "    <tr>\n",
       "      <th>2</th>\n",
       "      <td>2016-0003</td>\n",
       "      <td>1</td>\n",
       "      <td>2016-01-03</td>\n",
       "      <td>2016</td>\n",
       "      <td>1</td>\n",
       "      <td>3</td>\n",
       "      <td>07:00:00</td>\n",
       "      <td>7</td>\n",
       "      <td>AV ENTRE RIOS 2034</td>\n",
       "      <td>AVENIDA</td>\n",
       "      <td>...</td>\n",
       "      <td>2034.0</td>\n",
       "      <td>NaN</td>\n",
       "      <td>ENTRE RIOS AV. 2034</td>\n",
       "      <td>1</td>\n",
       "      <td>Point (106684.29090040 99706.57687843)</td>\n",
       "      <td>-58.39040293</td>\n",
       "      <td>-34.63189362</td>\n",
       "      <td>MOTO-AUTO</td>\n",
       "      <td>MOTO</td>\n",
       "      <td>AUTO</td>\n",
       "    </tr>\n",
       "    <tr>\n",
       "      <th>3</th>\n",
       "      <td>2016-0004</td>\n",
       "      <td>1</td>\n",
       "      <td>2016-01-10</td>\n",
       "      <td>2016</td>\n",
       "      <td>1</td>\n",
       "      <td>10</td>\n",
       "      <td>00:00:00</td>\n",
       "      <td>0</td>\n",
       "      <td>AV LARRAZABAL Y GRAL VILLEGAS CONRADO</td>\n",
       "      <td>AVENIDA</td>\n",
       "      <td>...</td>\n",
       "      <td>NaN</td>\n",
       "      <td>VILLEGAS, CONRADO, GRAL.</td>\n",
       "      <td>LARRAZABAL AV. y VILLEGAS, CONRADO, GRAL.</td>\n",
       "      <td>8</td>\n",
       "      <td>Point (99840.65224780 94269.16534422)</td>\n",
       "      <td>-58.46503904</td>\n",
       "      <td>-34.68092974</td>\n",
       "      <td>MOTO-SD</td>\n",
       "      <td>MOTO</td>\n",
       "      <td>SD</td>\n",
       "    </tr>\n",
       "    <tr>\n",
       "      <th>4</th>\n",
       "      <td>2016-0005</td>\n",
       "      <td>1</td>\n",
       "      <td>2016-01-21</td>\n",
       "      <td>2016</td>\n",
       "      <td>1</td>\n",
       "      <td>21</td>\n",
       "      <td>05:20:00</td>\n",
       "      <td>5</td>\n",
       "      <td>AV SAN JUAN Y PRESIDENTE LUIS SAENZ PEÑA</td>\n",
       "      <td>AVENIDA</td>\n",
       "      <td>...</td>\n",
       "      <td>NaN</td>\n",
       "      <td>SAENZ PE?A, LUIS, PRES.</td>\n",
       "      <td>SAN JUAN AV. y SAENZ PEÃ‘A, LUIS, PRES.</td>\n",
       "      <td>1</td>\n",
       "      <td>Point (106980.32827929 100752.16915795)</td>\n",
       "      <td>-58.38718297</td>\n",
       "      <td>-34.62246630</td>\n",
       "      <td>MOTO-PASAJEROS</td>\n",
       "      <td>MOTO</td>\n",
       "      <td>PASAJEROS</td>\n",
       "    </tr>\n",
       "  </tbody>\n",
       "</table>\n",
       "<p>5 rows × 21 columns</p>\n",
       "</div>"
      ],
      "text/plain": [
       "          ID  N_VICTIMAS       FECHA  AAAA  MM  DD      HORA HH  \\\n",
       "0  2016-0001           1  2016-01-01  2016   1   1  04:00:00  4   \n",
       "1  2016-0002           1  2016-01-02  2016   1   2  01:15:00  1   \n",
       "2  2016-0003           1  2016-01-03  2016   1   3  07:00:00  7   \n",
       "3  2016-0004           1  2016-01-10  2016   1  10  00:00:00  0   \n",
       "4  2016-0005           1  2016-01-21  2016   1  21  05:20:00  5   \n",
       "\n",
       "                             LUGAR_DEL_HECHO TIPO_DE_CALLE  ...  Altura  \\\n",
       "0  AV PIEDRA BUENA Y AV FERNANDEZ DE LA CRUZ       AVENIDA  ...     NaN   \n",
       "1          AV GRAL PAZ  Y AV DE LOS CORRALES      GRAL PAZ  ...     NaN   \n",
       "2                         AV ENTRE RIOS 2034       AVENIDA  ...  2034.0   \n",
       "3      AV LARRAZABAL Y GRAL VILLEGAS CONRADO       AVENIDA  ...     NaN   \n",
       "4  AV SAN JUAN Y PRESIDENTE LUIS SAENZ PEÑA        AVENIDA  ...     NaN   \n",
       "\n",
       "                                 Cruce  \\\n",
       "0  FERNANDEZ DE LA CRUZ, F., GRAL. AV.   \n",
       "1                  DE LOS CORRALES AV.   \n",
       "2                                  NaN   \n",
       "3             VILLEGAS, CONRADO, GRAL.   \n",
       "4              SAENZ PE?A, LUIS, PRES.   \n",
       "\n",
       "                               Dirección Normalizada COMUNA  \\\n",
       "0  PIEDRA BUENA AV. y FERNANDEZ DE LA CRUZ, F., G...      8   \n",
       "1               PAZ, GRAL. AV. y DE LOS CORRALES AV.      9   \n",
       "2                                ENTRE RIOS AV. 2034      1   \n",
       "3          LARRAZABAL AV. y VILLEGAS, CONRADO, GRAL.      8   \n",
       "4            SAN JUAN AV. y SAENZ PEÃ‘A, LUIS, PRES.      1   \n",
       "\n",
       "                                 XY (CABA)         pos x         pos y  \\\n",
       "0    Point (98896.78238426 93532.43437792)  -58.47533969  -34.68757022   \n",
       "1    Point (95832.05571093 95505.41641999)  -58.50877521  -34.66977709   \n",
       "2   Point (106684.29090040 99706.57687843)  -58.39040293  -34.63189362   \n",
       "3    Point (99840.65224780 94269.16534422)  -58.46503904  -34.68092974   \n",
       "4  Point (106980.32827929 100752.16915795)  -58.38718297  -34.62246630   \n",
       "\n",
       "    PARTICIPANTES VICTIMA    ACUSADO  \n",
       "0       MOTO-AUTO    MOTO       AUTO  \n",
       "1  AUTO-PASAJEROS    AUTO  PASAJEROS  \n",
       "2       MOTO-AUTO    MOTO       AUTO  \n",
       "3         MOTO-SD    MOTO         SD  \n",
       "4  MOTO-PASAJEROS    MOTO  PASAJEROS  \n",
       "\n",
       "[5 rows x 21 columns]"
      ]
     },
     "metadata": {},
     "output_type": "display_data"
    }
   ],
   "source": [
    "df_hechos = pd.read_csv(\"hechos.csv\", encoding='UTF-8')\n",
    "display(df_hechos.head())\n"
   ]
  },
  {
   "cell_type": "code",
   "execution_count": 918,
   "metadata": {},
   "outputs": [
    {
     "data": {
      "text/html": [
       "<div>\n",
       "<style scoped>\n",
       "    .dataframe tbody tr th:only-of-type {\n",
       "        vertical-align: middle;\n",
       "    }\n",
       "\n",
       "    .dataframe tbody tr th {\n",
       "        vertical-align: top;\n",
       "    }\n",
       "\n",
       "    .dataframe thead th {\n",
       "        text-align: right;\n",
       "    }\n",
       "</style>\n",
       "<table border=\"1\" class=\"dataframe\">\n",
       "  <thead>\n",
       "    <tr style=\"text-align: right;\">\n",
       "      <th></th>\n",
       "      <th>ID_hecho</th>\n",
       "      <th>FECHA</th>\n",
       "      <th>AAAA</th>\n",
       "      <th>MM</th>\n",
       "      <th>DD</th>\n",
       "      <th>ROL</th>\n",
       "      <th>VICTIMA</th>\n",
       "      <th>SEXO</th>\n",
       "      <th>EDAD</th>\n",
       "      <th>FECHA_FALLECIMIENTO</th>\n",
       "    </tr>\n",
       "  </thead>\n",
       "  <tbody>\n",
       "    <tr>\n",
       "      <th>0</th>\n",
       "      <td>2016-0001</td>\n",
       "      <td>2016-01-01</td>\n",
       "      <td>2016</td>\n",
       "      <td>1</td>\n",
       "      <td>1</td>\n",
       "      <td>CONDUCTOR</td>\n",
       "      <td>MOTO</td>\n",
       "      <td>MASCULINO</td>\n",
       "      <td>19</td>\n",
       "      <td>2016-01-01 00:00:00</td>\n",
       "    </tr>\n",
       "    <tr>\n",
       "      <th>1</th>\n",
       "      <td>2016-0002</td>\n",
       "      <td>2016-01-02</td>\n",
       "      <td>2016</td>\n",
       "      <td>1</td>\n",
       "      <td>2</td>\n",
       "      <td>CONDUCTOR</td>\n",
       "      <td>AUTO</td>\n",
       "      <td>MASCULINO</td>\n",
       "      <td>70</td>\n",
       "      <td>2016-01-02 00:00:00</td>\n",
       "    </tr>\n",
       "    <tr>\n",
       "      <th>2</th>\n",
       "      <td>2016-0003</td>\n",
       "      <td>2016-01-03</td>\n",
       "      <td>2016</td>\n",
       "      <td>1</td>\n",
       "      <td>3</td>\n",
       "      <td>CONDUCTOR</td>\n",
       "      <td>MOTO</td>\n",
       "      <td>MASCULINO</td>\n",
       "      <td>30</td>\n",
       "      <td>2016-01-03 00:00:00</td>\n",
       "    </tr>\n",
       "    <tr>\n",
       "      <th>3</th>\n",
       "      <td>2016-0004</td>\n",
       "      <td>2016-01-10</td>\n",
       "      <td>2016</td>\n",
       "      <td>1</td>\n",
       "      <td>10</td>\n",
       "      <td>CONDUCTOR</td>\n",
       "      <td>MOTO</td>\n",
       "      <td>MASCULINO</td>\n",
       "      <td>18</td>\n",
       "      <td>SD</td>\n",
       "    </tr>\n",
       "    <tr>\n",
       "      <th>4</th>\n",
       "      <td>2016-0005</td>\n",
       "      <td>2016-01-21</td>\n",
       "      <td>2016</td>\n",
       "      <td>1</td>\n",
       "      <td>21</td>\n",
       "      <td>CONDUCTOR</td>\n",
       "      <td>MOTO</td>\n",
       "      <td>MASCULINO</td>\n",
       "      <td>29</td>\n",
       "      <td>2016-02-01 00:00:00</td>\n",
       "    </tr>\n",
       "  </tbody>\n",
       "</table>\n",
       "</div>"
      ],
      "text/plain": [
       "    ID_hecho       FECHA  AAAA  MM  DD        ROL VICTIMA       SEXO EDAD  \\\n",
       "0  2016-0001  2016-01-01  2016   1   1  CONDUCTOR    MOTO  MASCULINO   19   \n",
       "1  2016-0002  2016-01-02  2016   1   2  CONDUCTOR    AUTO  MASCULINO   70   \n",
       "2  2016-0003  2016-01-03  2016   1   3  CONDUCTOR    MOTO  MASCULINO   30   \n",
       "3  2016-0004  2016-01-10  2016   1  10  CONDUCTOR    MOTO  MASCULINO   18   \n",
       "4  2016-0005  2016-01-21  2016   1  21  CONDUCTOR    MOTO  MASCULINO   29   \n",
       "\n",
       "   FECHA_FALLECIMIENTO  \n",
       "0  2016-01-01 00:00:00  \n",
       "1  2016-01-02 00:00:00  \n",
       "2  2016-01-03 00:00:00  \n",
       "3                   SD  \n",
       "4  2016-02-01 00:00:00  "
      ]
     },
     "metadata": {},
     "output_type": "display_data"
    }
   ],
   "source": [
    "df_victimas = pd.read_csv(\"victimas.csv\", encoding='utf-8')\n",
    "display(df_victimas.head())"
   ]
  },
  {
   "cell_type": "code",
   "execution_count": 919,
   "metadata": {},
   "outputs": [
    {
     "name": "stdout",
     "output_type": "stream",
     "text": [
      "<class 'pandas.core.frame.DataFrame'>\n",
      "RangeIndex: 696 entries, 0 to 695\n",
      "Data columns (total 21 columns):\n",
      " #   Column                 Non-Null Count  Dtype  \n",
      "---  ------                 --------------  -----  \n",
      " 0   ID                     696 non-null    object \n",
      " 1   N_VICTIMAS             696 non-null    int64  \n",
      " 2   FECHA                  696 non-null    object \n",
      " 3   AAAA                   696 non-null    int64  \n",
      " 4   MM                     696 non-null    int64  \n",
      " 5   DD                     696 non-null    int64  \n",
      " 6   HORA                   696 non-null    object \n",
      " 7   HH                     696 non-null    object \n",
      " 8   LUGAR_DEL_HECHO        696 non-null    object \n",
      " 9   TIPO_DE_CALLE          696 non-null    object \n",
      " 10  Calle                  695 non-null    object \n",
      " 11  Altura                 129 non-null    float64\n",
      " 12  Cruce                  525 non-null    object \n",
      " 13  Dirección Normalizada  688 non-null    object \n",
      " 14  COMUNA                 696 non-null    int64  \n",
      " 15  XY (CABA)              696 non-null    object \n",
      " 16  pos x                  696 non-null    object \n",
      " 17  pos y                  696 non-null    object \n",
      " 18  PARTICIPANTES          696 non-null    object \n",
      " 19  VICTIMA                696 non-null    object \n",
      " 20  ACUSADO                696 non-null    object \n",
      "dtypes: float64(1), int64(5), object(15)\n",
      "memory usage: 114.3+ KB\n"
     ]
    }
   ],
   "source": [
    "df_hechos.info()"
   ]
  },
  {
   "cell_type": "code",
   "execution_count": 920,
   "metadata": {},
   "outputs": [
    {
     "name": "stdout",
     "output_type": "stream",
     "text": [
      "<class 'pandas.core.frame.DataFrame'>\n",
      "RangeIndex: 717 entries, 0 to 716\n",
      "Data columns (total 10 columns):\n",
      " #   Column               Non-Null Count  Dtype \n",
      "---  ------               --------------  ----- \n",
      " 0   ID_hecho             717 non-null    object\n",
      " 1   FECHA                717 non-null    object\n",
      " 2   AAAA                 717 non-null    int64 \n",
      " 3   MM                   717 non-null    int64 \n",
      " 4   DD                   717 non-null    int64 \n",
      " 5   ROL                  717 non-null    object\n",
      " 6   VICTIMA              717 non-null    object\n",
      " 7   SEXO                 717 non-null    object\n",
      " 8   EDAD                 717 non-null    object\n",
      " 9   FECHA_FALLECIMIENTO  717 non-null    object\n",
      "dtypes: int64(3), object(7)\n",
      "memory usage: 56.1+ KB\n"
     ]
    }
   ],
   "source": [
    "df_victimas.info()"
   ]
  },
  {
   "cell_type": "markdown",
   "metadata": {},
   "source": [
    "## Transformación de Datos:\n",
    "\n",
    "Continuamos con la transformación. Esta consiste en limpiar, modificar y preparar los datos para su uso posterior. Eso incluye eliminar datos nulos, convertir tipos de datos, normalizar columnas, desanidar listas, etc."
   ]
  },
  {
   "cell_type": "markdown",
   "metadata": {},
   "source": [
    "### DATOS NULOS y COLUMNAS IRRELEVANTES\n",
    "En primer lugar voy a chequear si hay o no **id** que tengan **valor nulo**, dado que eso me podria traer problemas al relacionar mis datos con los otros dataset. De existir **id** sin valor, entonces eliminaría esas filas."
   ]
  },
  {
   "cell_type": "markdown",
   "metadata": {},
   "source": [
    "**Hechos**"
   ]
  },
  {
   "cell_type": "code",
   "execution_count": 921,
   "metadata": {},
   "outputs": [
    {
     "name": "stdout",
     "output_type": "stream",
     "text": [
      "El dataset tiene 0 filas sin el dato ID.\n",
      "No hay filas en hechos con valores nulos en la columna ID. El DataFrame original se conserva.\n"
     ]
    }
   ],
   "source": [
    "# Verificar valores nulos en la columna 'ID'\n",
    "id_null = df_hechos['ID'].isnull().sum()\n",
    "print(f'El dataset tiene {id_null} filas sin el dato ID.')\n",
    "\n",
    "# Si hay filas con valores nulos en 'ID', eliminarlas; de lo contrario, conservar el DataFrame original\n",
    "if id_null > 0:\n",
    "    df_hechos = df_hechos.dropna(subset=['ID'])\n",
    "    print(f'El nuevo dataset de hechos tiene {df_hechos.shape[0]} filas.')\n",
    "else:\n",
    "    print('No hay filas en hechos con valores nulos en la columna ID. El DataFrame original se conserva.')\n"
   ]
  },
  {
   "cell_type": "markdown",
   "metadata": {},
   "source": [
    "**Victimas**"
   ]
  },
  {
   "cell_type": "code",
   "execution_count": 922,
   "metadata": {},
   "outputs": [
    {
     "name": "stdout",
     "output_type": "stream",
     "text": [
      "El dataset tiene 0 filas sin el dato ID.\n",
      "No hay filas en victimas con valores nulos en la columna ID. El DataFrame original se conserva.\n"
     ]
    }
   ],
   "source": [
    "# Verificar valores nulos en la columna 'ID'\n",
    "id_null_v = df_victimas['ID_hecho'].isnull().sum()\n",
    "print(f'El dataset tiene {id_null_v} filas sin el dato ID.')\n",
    "\n",
    "# Si hay filas con valores nulos en 'ID', eliminarlas; de lo contrario, conservar el DataFrame original\n",
    "if id_null_v > 0:\n",
    "    df_victimas = df_victimas.dropna(subset=['ID_hecho'])\n",
    "    print(f'El nuevo dataset de victimas tiene {df_victimas.shape[0]} filas.')\n",
    "else:\n",
    "    print('No hay filas en victimas con valores nulos en la columna ID. El DataFrame original se conserva.')\n"
   ]
  },
  {
   "cell_type": "markdown",
   "metadata": {},
   "source": [
    "Ahora analizamos en qué columnas hay datos nulos y de cuantos se tratan."
   ]
  },
  {
   "cell_type": "markdown",
   "metadata": {},
   "source": [
    "**Hechos**"
   ]
  },
  {
   "cell_type": "code",
   "execution_count": 923,
   "metadata": {},
   "outputs": [
    {
     "name": "stdout",
     "output_type": "stream",
     "text": [
      "ID                         0\n",
      "N_VICTIMAS                 0\n",
      "FECHA                      0\n",
      "AAAA                       0\n",
      "MM                         0\n",
      "DD                         0\n",
      "HORA                       0\n",
      "HH                         0\n",
      "LUGAR_DEL_HECHO            0\n",
      "TIPO_DE_CALLE              0\n",
      "Calle                      1\n",
      "Altura                   567\n",
      "Cruce                    171\n",
      "Dirección Normalizada      8\n",
      "COMUNA                     0\n",
      "XY (CABA)                  0\n",
      "pos x                      0\n",
      "pos y                      0\n",
      "PARTICIPANTES              0\n",
      "VICTIMA                    0\n",
      "ACUSADO                    0\n",
      "dtype: int64\n"
     ]
    }
   ],
   "source": [
    "nulos = df_hechos.isnull().sum()\n",
    "print(nulos)\n"
   ]
  },
  {
   "cell_type": "markdown",
   "metadata": {},
   "source": [
    "Los valores nulos son significativos en el df_hechos en dos columnas en particular: Altura con 567 valores nulos y Cruce con 171 nulos."
   ]
  },
  {
   "cell_type": "markdown",
   "metadata": {},
   "source": [
    "**Victimas**"
   ]
  },
  {
   "cell_type": "code",
   "execution_count": 924,
   "metadata": {},
   "outputs": [
    {
     "name": "stdout",
     "output_type": "stream",
     "text": [
      "ID_hecho               0\n",
      "FECHA                  0\n",
      "AAAA                   0\n",
      "MM                     0\n",
      "DD                     0\n",
      "ROL                    0\n",
      "VICTIMA                0\n",
      "SEXO                   0\n",
      "EDAD                   0\n",
      "FECHA_FALLECIMIENTO    0\n",
      "dtype: int64\n"
     ]
    }
   ],
   "source": [
    "nulos_v = df_victimas.isnull().sum()\n",
    "print(nulos_v)"
   ]
  },
  {
   "cell_type": "markdown",
   "metadata": {},
   "source": [
    "En el caso de victimas no hay datos nulos."
   ]
  },
  {
   "cell_type": "markdown",
   "metadata": {},
   "source": [
    "Ahora analizamos en qué columnas se registro \"SD\", es decir, sin datos, y de cuantos se tratan. Notamos que puede haber cierta variación en columnas como PARTICIPANTES dado que muestra cero pero sabemos que probablemente se deba a que tiene el dato de alguno de los integrantes."
   ]
  },
  {
   "cell_type": "markdown",
   "metadata": {},
   "source": [
    "**Hechos**"
   ]
  },
  {
   "cell_type": "code",
   "execution_count": 925,
   "metadata": {},
   "outputs": [
    {
     "name": "stdout",
     "output_type": "stream",
     "text": [
      "ID                        0\n",
      "N_VICTIMAS                0\n",
      "FECHA                     0\n",
      "AAAA                      0\n",
      "MM                        0\n",
      "DD                        0\n",
      "HORA                      1\n",
      "HH                        1\n",
      "LUGAR_DEL_HECHO           1\n",
      "TIPO_DE_CALLE             0\n",
      "Calle                     0\n",
      "Altura                    0\n",
      "Cruce                     0\n",
      "Dirección Normalizada     0\n",
      "COMUNA                    0\n",
      "XY (CABA)                 0\n",
      "pos x                     0\n",
      "pos y                     0\n",
      "PARTICIPANTES             0\n",
      "VICTIMA                   9\n",
      "ACUSADO                  23\n",
      "dtype: int64\n"
     ]
    }
   ],
   "source": [
    "sin_datos = (df_hechos == 'SD').sum()\n",
    "print(sin_datos)"
   ]
  },
  {
   "cell_type": "markdown",
   "metadata": {},
   "source": [
    "**Victimas**"
   ]
  },
  {
   "cell_type": "code",
   "execution_count": 926,
   "metadata": {},
   "outputs": [
    {
     "name": "stdout",
     "output_type": "stream",
     "text": [
      "ID_hecho                0\n",
      "FECHA                   0\n",
      "AAAA                    0\n",
      "MM                      0\n",
      "DD                      0\n",
      "ROL                    11\n",
      "VICTIMA                 9\n",
      "SEXO                    6\n",
      "EDAD                   53\n",
      "FECHA_FALLECIMIENTO    68\n",
      "dtype: int64\n"
     ]
    }
   ],
   "source": [
    "sin_datos_v = (df_victimas == 'SD').sum()\n",
    "print(sin_datos_v)"
   ]
  },
  {
   "cell_type": "markdown",
   "metadata": {},
   "source": [
    "### Eliminación de columnas."
   ]
  },
  {
   "cell_type": "markdown",
   "metadata": {},
   "source": [
    "**Hechos**"
   ]
  },
  {
   "cell_type": "markdown",
   "metadata": {},
   "source": [
    "Decidimos **eliminar** las columnas **Altura, Hora, XY (CABA) y Dirección Normalizada** para simplificar nuestro dataframe y evitar redundancias en los datos de ubicación. Elegimos por mantener solo aquellas columnas que proporcionan información más precisa y útil para nuestro análisis y visualización en Power BI. De esta manera, nos enfocamos en datos clave que faciliten un análisis más claro y efectivo."
   ]
  },
  {
   "cell_type": "code",
   "execution_count": 927,
   "metadata": {},
   "outputs": [
    {
     "name": "stdout",
     "output_type": "stream",
     "text": [
      "          ID  N_VICTIMAS       FECHA  AAAA  MM  DD HH  \\\n",
      "0  2016-0001           1  2016-01-01  2016   1   1  4   \n",
      "1  2016-0002           1  2016-01-02  2016   1   2  1   \n",
      "2  2016-0003           1  2016-01-03  2016   1   3  7   \n",
      "3  2016-0004           1  2016-01-10  2016   1  10  0   \n",
      "4  2016-0005           1  2016-01-21  2016   1  21  5   \n",
      "\n",
      "                             LUGAR_DEL_HECHO TIPO_DE_CALLE             Calle  \\\n",
      "0  AV PIEDRA BUENA Y AV FERNANDEZ DE LA CRUZ       AVENIDA  PIEDRA BUENA AV.   \n",
      "1          AV GRAL PAZ  Y AV DE LOS CORRALES      GRAL PAZ    PAZ, GRAL. AV.   \n",
      "2                         AV ENTRE RIOS 2034       AVENIDA    ENTRE RIOS AV.   \n",
      "3      AV LARRAZABAL Y GRAL VILLEGAS CONRADO       AVENIDA    LARRAZABAL AV.   \n",
      "4  AV SAN JUAN Y PRESIDENTE LUIS SAENZ PEÑA        AVENIDA      SAN JUAN AV.   \n",
      "\n",
      "                                 Cruce  COMUNA         pos x         pos y  \\\n",
      "0  FERNANDEZ DE LA CRUZ, F., GRAL. AV.       8  -58.47533969  -34.68757022   \n",
      "1                  DE LOS CORRALES AV.       9  -58.50877521  -34.66977709   \n",
      "2                                  NaN       1  -58.39040293  -34.63189362   \n",
      "3             VILLEGAS, CONRADO, GRAL.       8  -58.46503904  -34.68092974   \n",
      "4              SAENZ PE?A, LUIS, PRES.       1  -58.38718297  -34.62246630   \n",
      "\n",
      "    PARTICIPANTES VICTIMA    ACUSADO  \n",
      "0       MOTO-AUTO    MOTO       AUTO  \n",
      "1  AUTO-PASAJEROS    AUTO  PASAJEROS  \n",
      "2       MOTO-AUTO    MOTO       AUTO  \n",
      "3         MOTO-SD    MOTO         SD  \n",
      "4  MOTO-PASAJEROS    MOTO  PASAJEROS  \n"
     ]
    }
   ],
   "source": [
    "columnas_destacadas = ['ID', 'N_VICTIMAS', 'FECHA', 'AAAA', 'MM', 'DD', 'HH', 'LUGAR_DEL_HECHO', 'TIPO_DE_CALLE', 'Calle', 'Cruce', 'COMUNA', 'pos x', 'pos y', 'PARTICIPANTES', 'VICTIMA', 'ACUSADO']\n",
    "df_hechos2 = df_hechos[columnas_destacadas]\n",
    "\n",
    "print(df_hechos2.head())"
   ]
  },
  {
   "cell_type": "code",
   "execution_count": 928,
   "metadata": {},
   "outputs": [
    {
     "name": "stdout",
     "output_type": "stream",
     "text": [
      "<class 'pandas.core.frame.DataFrame'>\n",
      "RangeIndex: 696 entries, 0 to 695\n",
      "Data columns (total 17 columns):\n",
      " #   Column           Non-Null Count  Dtype \n",
      "---  ------           --------------  ----- \n",
      " 0   ID               696 non-null    object\n",
      " 1   N_VICTIMAS       696 non-null    int64 \n",
      " 2   FECHA            696 non-null    object\n",
      " 3   AAAA             696 non-null    int64 \n",
      " 4   MM               696 non-null    int64 \n",
      " 5   DD               696 non-null    int64 \n",
      " 6   HH               696 non-null    object\n",
      " 7   LUGAR_DEL_HECHO  696 non-null    object\n",
      " 8   TIPO_DE_CALLE    696 non-null    object\n",
      " 9   Calle            695 non-null    object\n",
      " 10  Cruce            525 non-null    object\n",
      " 11  COMUNA           696 non-null    int64 \n",
      " 12  pos x            696 non-null    object\n",
      " 13  pos y            696 non-null    object\n",
      " 14  PARTICIPANTES    696 non-null    object\n",
      " 15  VICTIMA          696 non-null    object\n",
      " 16  ACUSADO          696 non-null    object\n",
      "dtypes: int64(5), object(12)\n",
      "memory usage: 92.6+ KB\n"
     ]
    }
   ],
   "source": [
    "df_hechos2.info()"
   ]
  },
  {
   "cell_type": "markdown",
   "metadata": {},
   "source": [
    "**Victimas**\n",
    "\n",
    "Hay datos que se repiten de la tabla anterior con lo cual no son necesarios conservar"
   ]
  },
  {
   "cell_type": "code",
   "execution_count": 929,
   "metadata": {},
   "outputs": [
    {
     "data": {
      "text/html": [
       "<div>\n",
       "<style scoped>\n",
       "    .dataframe tbody tr th:only-of-type {\n",
       "        vertical-align: middle;\n",
       "    }\n",
       "\n",
       "    .dataframe tbody tr th {\n",
       "        vertical-align: top;\n",
       "    }\n",
       "\n",
       "    .dataframe thead th {\n",
       "        text-align: right;\n",
       "    }\n",
       "</style>\n",
       "<table border=\"1\" class=\"dataframe\">\n",
       "  <thead>\n",
       "    <tr style=\"text-align: right;\">\n",
       "      <th></th>\n",
       "      <th>ID_hecho</th>\n",
       "      <th>ROL</th>\n",
       "      <th>SEXO</th>\n",
       "      <th>EDAD</th>\n",
       "    </tr>\n",
       "  </thead>\n",
       "  <tbody>\n",
       "    <tr>\n",
       "      <th>0</th>\n",
       "      <td>2016-0001</td>\n",
       "      <td>CONDUCTOR</td>\n",
       "      <td>MASCULINO</td>\n",
       "      <td>19</td>\n",
       "    </tr>\n",
       "    <tr>\n",
       "      <th>1</th>\n",
       "      <td>2016-0002</td>\n",
       "      <td>CONDUCTOR</td>\n",
       "      <td>MASCULINO</td>\n",
       "      <td>70</td>\n",
       "    </tr>\n",
       "    <tr>\n",
       "      <th>2</th>\n",
       "      <td>2016-0003</td>\n",
       "      <td>CONDUCTOR</td>\n",
       "      <td>MASCULINO</td>\n",
       "      <td>30</td>\n",
       "    </tr>\n",
       "    <tr>\n",
       "      <th>3</th>\n",
       "      <td>2016-0004</td>\n",
       "      <td>CONDUCTOR</td>\n",
       "      <td>MASCULINO</td>\n",
       "      <td>18</td>\n",
       "    </tr>\n",
       "    <tr>\n",
       "      <th>4</th>\n",
       "      <td>2016-0005</td>\n",
       "      <td>CONDUCTOR</td>\n",
       "      <td>MASCULINO</td>\n",
       "      <td>29</td>\n",
       "    </tr>\n",
       "    <tr>\n",
       "      <th>...</th>\n",
       "      <td>...</td>\n",
       "      <td>...</td>\n",
       "      <td>...</td>\n",
       "      <td>...</td>\n",
       "    </tr>\n",
       "    <tr>\n",
       "      <th>712</th>\n",
       "      <td>2021-0092</td>\n",
       "      <td>PEATON</td>\n",
       "      <td>FEMENINO</td>\n",
       "      <td>50</td>\n",
       "    </tr>\n",
       "    <tr>\n",
       "      <th>713</th>\n",
       "      <td>2021-0093</td>\n",
       "      <td>PASAJERO_ACOMPAÑANTE</td>\n",
       "      <td>FEMENINO</td>\n",
       "      <td>18</td>\n",
       "    </tr>\n",
       "    <tr>\n",
       "      <th>714</th>\n",
       "      <td>2021-0094</td>\n",
       "      <td>PASAJERO_ACOMPAÑANTE</td>\n",
       "      <td>FEMENINO</td>\n",
       "      <td>43</td>\n",
       "    </tr>\n",
       "    <tr>\n",
       "      <th>715</th>\n",
       "      <td>2021-0095</td>\n",
       "      <td>CONDUCTOR</td>\n",
       "      <td>MASCULINO</td>\n",
       "      <td>27</td>\n",
       "    </tr>\n",
       "    <tr>\n",
       "      <th>716</th>\n",
       "      <td>2021-0096</td>\n",
       "      <td>CONDUCTOR</td>\n",
       "      <td>MASCULINO</td>\n",
       "      <td>60</td>\n",
       "    </tr>\n",
       "  </tbody>\n",
       "</table>\n",
       "<p>717 rows × 4 columns</p>\n",
       "</div>"
      ],
      "text/plain": [
       "      ID_hecho                   ROL       SEXO EDAD\n",
       "0    2016-0001             CONDUCTOR  MASCULINO   19\n",
       "1    2016-0002             CONDUCTOR  MASCULINO   70\n",
       "2    2016-0003             CONDUCTOR  MASCULINO   30\n",
       "3    2016-0004             CONDUCTOR  MASCULINO   18\n",
       "4    2016-0005             CONDUCTOR  MASCULINO   29\n",
       "..         ...                   ...        ...  ...\n",
       "712  2021-0092                PEATON   FEMENINO   50\n",
       "713  2021-0093  PASAJERO_ACOMPAÑANTE   FEMENINO   18\n",
       "714  2021-0094  PASAJERO_ACOMPAÑANTE   FEMENINO   43\n",
       "715  2021-0095             CONDUCTOR  MASCULINO   27\n",
       "716  2021-0096             CONDUCTOR  MASCULINO   60\n",
       "\n",
       "[717 rows x 4 columns]"
      ]
     },
     "execution_count": 929,
     "metadata": {},
     "output_type": "execute_result"
    }
   ],
   "source": [
    "df_victimas2 = df_victimas.drop(columns=['FECHA', 'AAAA', 'MM', 'DD', 'VICTIMA', 'FECHA_FALLECIMIENTO'])\n",
    "df_victimas2"
   ]
  },
  {
   "cell_type": "markdown",
   "metadata": {},
   "source": [
    "### DATOS DUPLICADOS\n",
    "\n",
    "A continuación revisamos si hay **datos duplicados**. Empezaremos por los id en el csv hechos, dado que deben ser únicos. Y a continuación chequeamos si hay filas que aún con id diferente comparten misma data en todo el resto de sus campos (eso podria deberse a error humano de dobles cargas por ejemplo)"
   ]
  },
  {
   "cell_type": "markdown",
   "metadata": {},
   "source": [
    "**Hechos**"
   ]
  },
  {
   "cell_type": "code",
   "execution_count": 930,
   "metadata": {},
   "outputs": [
    {
     "name": "stdout",
     "output_type": "stream",
     "text": [
      "No hay IDs duplicados.\n",
      "No hay filas duplicadas.\n"
     ]
    }
   ],
   "source": [
    "# Verifico ID duplicados\n",
    "ids_duplicados = df_hechos2['ID'].duplicated().sum()\n",
    "\n",
    "if ids_duplicados > 0:\n",
    "    print(f\"Hay {ids_duplicados} IDs duplicados.\")\n",
    "else:\n",
    "    print(\"No hay IDs duplicados.\")\n",
    "\n",
    "# Verifico filas duplicadas\n",
    "filas_duplicadas = df_hechos2.duplicated().sum()\n",
    "\n",
    "if filas_duplicadas > 0:\n",
    "    print(f\"Hay {filas_duplicadas} filas duplicadas.\")\n",
    "else:\n",
    "    print(\"No hay filas duplicadas.\")\n",
    "\n"
   ]
  },
  {
   "cell_type": "markdown",
   "metadata": {},
   "source": [
    "**Victimas**"
   ]
  },
  {
   "cell_type": "code",
   "execution_count": 931,
   "metadata": {},
   "outputs": [
    {
     "name": "stdout",
     "output_type": "stream",
     "text": [
      "Hay 21 IDs duplicados.\n",
      "No hay filas duplicadas.\n"
     ]
    }
   ],
   "source": [
    "# Verifico ID duplicados\n",
    "ids_duplicados_v = df_victimas2['ID_hecho'].duplicated().sum()\n",
    "\n",
    "if ids_duplicados_v > 0:\n",
    "    print(f\"Hay {ids_duplicados_v} IDs duplicados.\")\n",
    "else:\n",
    "    print(\"No hay IDs duplicados.\")\n",
    "\n",
    "# Verifico filas duplicadas\n",
    "filas_duplicadas_v = df_victimas2.duplicated().sum()\n",
    "\n",
    "if filas_duplicadas_v > 0:\n",
    "    print(f\"Hay {filas_duplicadas_v} filas duplicadas.\")\n",
    "else:\n",
    "    print(\"No hay filas duplicadas.\")"
   ]
  },
  {
   "cell_type": "markdown",
   "metadata": {},
   "source": [
    "De esta información se desprende que los id están duplicados pero no así ninguna fila, probablemente se deba a que son ID de los hechos y estos tienen en ocasiones victimas múltiples. Pero para ello chequeamos primero."
   ]
  },
  {
   "cell_type": "code",
   "execution_count": 932,
   "metadata": {},
   "outputs": [
    {
     "name": "stdout",
     "output_type": "stream",
     "text": [
      "      ID_hecho  N_VICTIMAS\n",
      "29   2016-0041           2\n",
      "97   2016-0126           2\n",
      "161  2017-0026           2\n",
      "170  2017-0035           3\n",
      "171  2017-0036           2\n",
      "180  2017-0050           2\n",
      "230  2017-0108           2\n",
      "234  2017-0112           2\n",
      "244  2017-0126           2\n",
      "267  2017-0153           2\n",
      "289  2018-0015           2\n",
      "300  2018-0026           2\n",
      "312  2018-0038           2\n",
      "359  2018-0085           2\n",
      "372  2018-0098           2\n",
      "402  2018-0128           2\n",
      "427  2019-0010           2\n",
      "558  2020-0038           2\n",
      "583  2020-0063           2\n",
      "596  2020-0077           2\n"
     ]
    }
   ],
   "source": [
    "# Agrupar por ID_hecho y contar la cantidad de víctimas\n",
    "agrupados = df_victimas2.groupby('ID_hecho').size().reset_index(name='N_VICTIMAS')\n",
    "\n",
    "# Mostrar los accidentes con más de una víctima\n",
    "accidentes_multiples = agrupados[agrupados['N_VICTIMAS'] > 1]\n",
    "print(accidentes_multiples)\n"
   ]
  },
  {
   "cell_type": "markdown",
   "metadata": {},
   "source": [
    "Aquí confirmamos que sí se trata de los accidentes con más de una victima fatal."
   ]
  },
  {
   "cell_type": "markdown",
   "metadata": {},
   "source": [
    "### CALIDAD DE DATOS\n",
    "\n",
    "Empezamos analizando con qué tipo de datos trabajamos para modificar aquellos datos necesarios y a su vez trabajaremos sobre los datos \"SD\" y otras particularidades que puedan surgir."
   ]
  },
  {
   "cell_type": "markdown",
   "metadata": {},
   "source": [
    "**Hechos**"
   ]
  },
  {
   "cell_type": "code",
   "execution_count": 933,
   "metadata": {},
   "outputs": [
    {
     "data": {
      "text/plain": [
       "ID                 object\n",
       "N_VICTIMAS          int64\n",
       "FECHA              object\n",
       "AAAA                int64\n",
       "MM                  int64\n",
       "DD                  int64\n",
       "HH                 object\n",
       "LUGAR_DEL_HECHO    object\n",
       "TIPO_DE_CALLE      object\n",
       "Calle              object\n",
       "Cruce              object\n",
       "COMUNA              int64\n",
       "pos x              object\n",
       "pos y              object\n",
       "PARTICIPANTES      object\n",
       "VICTIMA            object\n",
       "ACUSADO            object\n",
       "dtype: object"
      ]
     },
     "execution_count": 933,
     "metadata": {},
     "output_type": "execute_result"
    }
   ],
   "source": [
    "df_hechos2.dtypes"
   ]
  },
  {
   "cell_type": "markdown",
   "metadata": {},
   "source": [
    "**Fecha**: Se trata de un dato que deberia figurar como fecha y sin embargo lo hace como object. Así que debemos convertirlo."
   ]
  },
  {
   "cell_type": "code",
   "execution_count": 934,
   "metadata": {},
   "outputs": [
    {
     "name": "stdout",
     "output_type": "stream",
     "text": [
      "ID                         object\n",
      "N_VICTIMAS                  int64\n",
      "FECHA              datetime64[ns]\n",
      "AAAA                        int64\n",
      "MM                          int64\n",
      "DD                          int64\n",
      "HH                         object\n",
      "LUGAR_DEL_HECHO            object\n",
      "TIPO_DE_CALLE              object\n",
      "Calle                      object\n",
      "Cruce                      object\n",
      "COMUNA                      int64\n",
      "pos x                      object\n",
      "pos y                      object\n",
      "PARTICIPANTES              object\n",
      "VICTIMA                    object\n",
      "ACUSADO                    object\n",
      "dtype: object\n"
     ]
    }
   ],
   "source": [
    "# Convertir la fecha a formato datetime\n",
    "#df_hechos2['FECHA'] = pd.to_datetime(df_hechos2['FECHA'])\n",
    "\n",
    "# Verificar la conversión\n",
    "#print(df_hechos2['FECHA'].head())\n",
    "#print(df_hechos2.dtypes)\n",
    "\n",
    "import warnings\n",
    "from pandas.errors import SettingWithCopyWarning\n",
    "\n",
    "# Ignorar advertencias temporalmente\n",
    "with warnings.catch_warnings():\n",
    "    warnings.simplefilter(\"ignore\", category=SettingWithCopyWarning)\n",
    "    \n",
    "    # Convertir la fecha a formato datetime\n",
    "    df_hechos2['FECHA'] = pd.to_datetime(df_hechos2['FECHA'], errors='coerce')\n",
    "        \n",
    "# Verificar tipos de datos\n",
    "print(df_hechos2.dtypes)\n"
   ]
  },
  {
   "cell_type": "markdown",
   "metadata": {},
   "source": [
    "Nota: Para evitar la advertencia SettingWithCopyWarning de Pandas, he ajustado el código siguiendo las recomendaciones proporcionadas. Esta advertencia no afecta el análisis actual, pero se maneja para asegurar un análisis limpio y sin interrupciones."
   ]
  },
  {
   "cell_type": "markdown",
   "metadata": {},
   "source": [
    "**HH**, al igual que con fecha figura como object y no lo es, así que tambien modficamos el tipo de dato."
   ]
  },
  {
   "cell_type": "code",
   "execution_count": 935,
   "metadata": {},
   "outputs": [
    {
     "name": "stdout",
     "output_type": "stream",
     "text": [
      "ID                  0\n",
      "N_VICTIMAS          0\n",
      "FECHA               0\n",
      "AAAA                0\n",
      "MM                  0\n",
      "DD                  0\n",
      "HH                  1\n",
      "LUGAR_DEL_HECHO     1\n",
      "TIPO_DE_CALLE       0\n",
      "Calle               0\n",
      "Cruce               0\n",
      "COMUNA              0\n",
      "pos x               0\n",
      "pos y               0\n",
      "PARTICIPANTES       0\n",
      "VICTIMA             9\n",
      "ACUSADO            23\n",
      "dtype: int64\n"
     ]
    }
   ],
   "source": [
    "# Resumen de valores nulos en cada columna\n",
    "#nulos2 = df_hechos2.isnull().sum()\n",
    "#print(nulos2)\n",
    "sin_datos2 = (df_hechos2 == 'SD').sum()\n",
    "print(sin_datos2)"
   ]
  },
  {
   "cell_type": "code",
   "execution_count": 936,
   "metadata": {},
   "outputs": [
    {
     "name": "stdout",
     "output_type": "stream",
     "text": [
      "ID                         object\n",
      "N_VICTIMAS                  int64\n",
      "FECHA              datetime64[ns]\n",
      "AAAA                        int64\n",
      "MM                          int64\n",
      "DD                          int64\n",
      "HH                          int64\n",
      "LUGAR_DEL_HECHO            object\n",
      "TIPO_DE_CALLE              object\n",
      "Calle                      object\n",
      "Cruce                      object\n",
      "COMUNA                      int64\n",
      "pos x                      object\n",
      "pos y                      object\n",
      "PARTICIPANTES              object\n",
      "VICTIMA                    object\n",
      "ACUSADO                    object\n",
      "dtype: object\n"
     ]
    }
   ],
   "source": [
    "with warnings.catch_warnings():\n",
    "    warnings.simplefilter(\"ignore\", category=SettingWithCopyWarning)\n",
    "    \n",
    "    # Reemplazar \"SD\" en HH con 0\n",
    "    df_hechos2.loc[:, 'HH'] = df_hechos2['HH'].replace('SD', 0).astype(int)\n",
    "    \n",
    "    # Convertir HH a int64\n",
    "    df_hechos2['HH'] = df_hechos2['HH'].astype(int)    \n",
    "\n",
    "# Verificar tipos de datos y que los nulos se hayan manejado correctamente\n",
    "print(df_hechos2.dtypes)"
   ]
  },
  {
   "cell_type": "markdown",
   "metadata": {},
   "source": [
    "Nota: Para evitar la advertencia SettingWithCopyWarning de Pandas, he ajustado el código siguiendo las recomendaciones proporcionadas. Esta advertencia no afecta el análisis actual, pero se maneja para asegurar un análisis limpio y sin interrupciones."
   ]
  },
  {
   "cell_type": "markdown",
   "metadata": {},
   "source": [
    "**pos x y pos y**\n",
    "\n",
    "Los pasamos a float"
   ]
  },
  {
   "cell_type": "code",
   "execution_count": 937,
   "metadata": {},
   "outputs": [
    {
     "name": "stdout",
     "output_type": "stream",
     "text": [
      "          ID      pos x      pos y\n",
      "0  2016-0001 -58.475340 -34.687570\n",
      "1  2016-0002 -58.508775 -34.669777\n",
      "2  2016-0003 -58.390403 -34.631894\n",
      "3  2016-0004 -58.465039 -34.680930\n",
      "4  2016-0005 -58.387183 -34.622466\n"
     ]
    }
   ],
   "source": [
    "# Ignorar advertencias temporalmente\n",
    "with warnings.catch_warnings():\n",
    "    warnings.simplefilter(\"ignore\", category=SettingWithCopyWarning)\n",
    "    \n",
    "     # Reemplazar \".\" con NaN en pos x y pos y usando .loc\n",
    "    df_hechos2.loc[df_hechos2['pos x'] == '.', 'pos x'] = np.nan\n",
    "    df_hechos2.loc[df_hechos2['pos y'] == '.', 'pos y'] = np.nan\n",
    "    \n",
    "    # Imputar manualmente los valores SD en pos x\n",
    "    df_hechos2.loc[df_hechos2['ID'] == '2016-0052', 'pos y'] = -34.5482752732176\n",
    "    df_hechos2.loc[df_hechos2['ID'] == '2016-0136', 'pos y'] = -34.76076916137128\n",
    "    df_hechos2.loc[df_hechos2['ID'] == '2016-0174', 'pos y'] = -34.620585791298076\n",
    "    df_hechos2.loc[df_hechos2['ID'] == '2017-0042', 'pos y'] = -34.5482751372226\n",
    "    df_hechos2.loc[df_hechos2['ID'] == '2017-0050', 'pos y'] = -34.638784958183926\n",
    "    df_hechos2.loc[df_hechos2['ID'] == '2017-0051', 'pos y'] = -34.66900650255661\n",
    "    df_hechos2.loc[df_hechos2['ID'] == '2017-0140', 'pos y'] = -34.63587371605594\n",
    "    df_hechos2.loc[df_hechos2['ID'] == '2018-0039', 'pos y'] = -34.548292810803375\n",
    "    df_hechos2.loc[df_hechos2['ID'] == '2020-0026', 'pos y'] = -34.54988785980116\n",
    "    df_hechos2.loc[df_hechos2['ID'] == '2020-0039', 'pos y'] = -34.663132207804004\n",
    "    df_hechos2.loc[df_hechos2['ID'] == '2021-0023', 'pos y'] = -34.667493\n",
    "     \n",
    "    # Imputar nulos en pos y\n",
    "    df_hechos2.loc[df_hechos2['ID'] == '2016-0052', 'pos x'] = -58.43851883576026\n",
    "    df_hechos2.loc[df_hechos2['ID'] == '2016-0136', 'pos x'] = -58.180692430054414\n",
    "    df_hechos2.loc[df_hechos2['ID'] == '2016-0174', 'pos x'] = -58.40123429186223\n",
    "    df_hechos2.loc[df_hechos2['ID'] == '2017-0042', 'pos x'] = -58.43856363191393\n",
    "    df_hechos2.loc[df_hechos2['ID'] == '2017-0050', 'pos x'] = -58.49383818773086\n",
    "    df_hechos2.loc[df_hechos2['ID'] == '2017-0051', 'pos x'] = -58.47555667423749\n",
    "    df_hechos2.loc[df_hechos2['ID'] == '2017-0140', 'pos x'] = -58.37713882328588\n",
    "    df_hechos2.loc[df_hechos2['ID'] == '2018-0039', 'pos x'] = -58.43855290307802\n",
    "    df_hechos2.loc[df_hechos2['ID'] == '2020-0026', 'pos x'] = -58.43541794187507\n",
    "    df_hechos2.loc[df_hechos2['ID'] == '2020-0039', 'pos x'] = -58.493177387730015\n",
    "    df_hechos2.loc[df_hechos2['ID'] == '2021-0023', 'pos x'] = -58.419416\n",
    "\n",
    "    # Convertir a float las dos columnas\n",
    "    df_hechos2['pos x'] = df_hechos2['pos x'].astype(float)\n",
    "    df_hechos2['pos y'] = df_hechos2['pos y'].astype(float)\n",
    "    \n",
    "    # Verificar la conversión y orden de pos x y pos y\n",
    "print(df_hechos2[['ID', 'pos x', 'pos y']].head())\n"
   ]
  },
  {
   "cell_type": "markdown",
   "metadata": {},
   "source": [
    "Nota: Para evitar la advertencia SettingWithCopyWarning de Pandas, he ajustado el código siguiendo las recomendaciones proporcionadas. Esta advertencia no afecta el análisis actual, pero se maneja para asegurar un análisis limpio y sin interrupciones."
   ]
  },
  {
   "cell_type": "markdown",
   "metadata": {},
   "source": [
    "**Lugar del hecho**\n",
    "\n",
    "Dado que tiene un solo valor SD y que en la misma fila faltan la mayoría de los datos, podemos eliminarlo para simplificar la tabla y su lectura. "
   ]
  },
  {
   "cell_type": "code",
   "execution_count": 938,
   "metadata": {},
   "outputs": [],
   "source": [
    "# Crear una copia del dataframe para evitar el warning\n",
    "df_hechos2 = df_hechos2.copy()\n",
    "\n",
    "# Eliminar filas donde LUGAR_DEL_HECHO es 'SD'\n",
    "df_hechos2.drop(df_hechos2[df_hechos2['LUGAR_DEL_HECHO'] == 'SD'].index, inplace=True)"
   ]
  },
  {
   "cell_type": "markdown",
   "metadata": {},
   "source": [
    "**Cruces**\n",
    "\n",
    "Asumimos que los puntos nulos en esta columna se deben a que no todos los accidentes ocurren en cruces con otra calle, y por ende las renombramos como \"SIN_CRUCE\""
   ]
  },
  {
   "cell_type": "code",
   "execution_count": 939,
   "metadata": {},
   "outputs": [],
   "source": [
    "# Reemplazar valores nulos en la columna 'Cruce' con 'SIN_CRUCE'\n",
    "df_hechos2.loc[:, 'Cruce'] = df_hechos2['Cruce'].fillna('SIN CRUCE')\n"
   ]
  },
  {
   "cell_type": "code",
   "execution_count": 940,
   "metadata": {},
   "outputs": [
    {
     "name": "stdout",
     "output_type": "stream",
     "text": [
      "ID                 0\n",
      "N_VICTIMAS         0\n",
      "FECHA              0\n",
      "AAAA               0\n",
      "MM                 0\n",
      "DD                 0\n",
      "HH                 0\n",
      "LUGAR_DEL_HECHO    0\n",
      "TIPO_DE_CALLE      0\n",
      "Calle              0\n",
      "Cruce              0\n",
      "COMUNA             0\n",
      "pos x              0\n",
      "pos y              0\n",
      "PARTICIPANTES      0\n",
      "VICTIMA            0\n",
      "ACUSADO            0\n",
      "dtype: int64\n"
     ]
    }
   ],
   "source": [
    "# Verificar los cambios\n",
    "print(df_hechos2.isnull().sum())"
   ]
  },
  {
   "cell_type": "markdown",
   "metadata": {},
   "source": [
    "**Victimas**"
   ]
  },
  {
   "cell_type": "code",
   "execution_count": 941,
   "metadata": {},
   "outputs": [
    {
     "data": {
      "text/plain": [
       "ID_hecho    object\n",
       "ROL         object\n",
       "SEXO        object\n",
       "EDAD        object\n",
       "dtype: object"
      ]
     },
     "execution_count": 941,
     "metadata": {},
     "output_type": "execute_result"
    }
   ],
   "source": [
    "df_victimas2.dtypes"
   ]
  },
  {
   "cell_type": "markdown",
   "metadata": {},
   "source": [
    "**Edad**"
   ]
  },
  {
   "cell_type": "code",
   "execution_count": 942,
   "metadata": {},
   "outputs": [
    {
     "data": {
      "text/plain": [
       "ID_hecho    object\n",
       "ROL         object\n",
       "SEXO        object\n",
       "EDAD         int64\n",
       "dtype: object"
      ]
     },
     "execution_count": 942,
     "metadata": {},
     "output_type": "execute_result"
    }
   ],
   "source": [
    "# Reemplaza 'SD' con un valor temporal para poder convertir de object a int\n",
    "df_victimas2['EDAD'] = df_victimas2['EDAD'].replace('SD', 200)\n",
    "\n",
    "# Convierte edad a int\n",
    "df_victimas2['EDAD'] = df_victimas2['EDAD'].astype(int)\n",
    "\n",
    "# Calculamos la media de las edades, excluyendo las SD (200)\n",
    "media_edad = round(df_victimas2[df_victimas2['EDAD'] != 200]['EDAD'].mean(),0)\n",
    "media_edad\n",
    "\n",
    "# Reemplazamos los datos SD con la media de las edades para no modificar luego las estadísticas de edad\n",
    "df_victimas2['EDAD'] = df_victimas2['EDAD'].replace(200, media_edad)\n",
    "\n",
    "#Verificamos resultado\n",
    "df_victimas2.dtypes"
   ]
  },
  {
   "cell_type": "markdown",
   "metadata": {},
   "source": [
    "NORMALIZACION DE LOS DATOS"
   ]
  },
  {
   "cell_type": "markdown",
   "metadata": {},
   "source": [
    "**Hechos**"
   ]
  },
  {
   "cell_type": "markdown",
   "metadata": {},
   "source": [
    "**Tipo de calle**"
   ]
  },
  {
   "cell_type": "code",
   "execution_count": 943,
   "metadata": {},
   "outputs": [
    {
     "name": "stdout",
     "output_type": "stream",
     "text": [
      "TIPO_DE_CALLE\n",
      "AVENIDA      429\n",
      "CALLE        135\n",
      "AUTOPISTA     66\n",
      "GRAL PAZ      65\n",
      "Name: count, dtype: int64\n"
     ]
    }
   ],
   "source": [
    "tipo_de_calle_cuenta = df_hechos2['TIPO_DE_CALLE'].value_counts()\n",
    "print(tipo_de_calle_cuenta)"
   ]
  },
  {
   "cell_type": "markdown",
   "metadata": {},
   "source": [
    "Notamos que que sale como categoría aparte General Paz. Y luego de una breve búsqueda en los datos oficiales del Gobierno de la Ciudad notamos que, si bien se llama Avenida, es considerada una autopista, así que con ese criterio renombramos sus valores a Autopista.\n",
    "Link: https://buenosaires.gob.ar/movilidad/gerencia-operativa-de-logistica-urbana/normativa-general/avenida-general-paz#:~:text=La%20Avenida%20General%20Paz%20es,sobre%20el%20R%C3%ADo%20Matanza%2DRiachuelo."
   ]
  },
  {
   "cell_type": "code",
   "execution_count": 944,
   "metadata": {},
   "outputs": [
    {
     "name": "stdout",
     "output_type": "stream",
     "text": [
      "TIPO_DE_CALLE\n",
      "AVENIDA      429\n",
      "CALLE        135\n",
      "AUTOPISTA    131\n",
      "Name: count, dtype: int64\n"
     ]
    }
   ],
   "source": [
    "# Cambiamos los registros 'GRAL PAZ' por 'AUTOPISTA'\n",
    "df_hechos2.loc[df_hechos2['TIPO_DE_CALLE'] == 'GRAL PAZ', 'TIPO_DE_CALLE'] = 'AUTOPISTA'\n",
    "tipo_de_calle_cuenta2 = df_hechos2['TIPO_DE_CALLE'].value_counts()\n",
    "print(tipo_de_calle_cuenta2)"
   ]
  },
  {
   "cell_type": "markdown",
   "metadata": {},
   "source": [
    "**Comuna**"
   ]
  },
  {
   "cell_type": "code",
   "execution_count": 945,
   "metadata": {},
   "outputs": [
    {
     "name": "stdout",
     "output_type": "stream",
     "text": [
      "COMUNA\n",
      "1     90\n",
      "4     76\n",
      "9     73\n",
      "8     65\n",
      "7     60\n",
      "3     45\n",
      "15    44\n",
      "13    40\n",
      "12    37\n",
      "14    35\n",
      "11    32\n",
      "10    29\n",
      "2     25\n",
      "5     22\n",
      "6     21\n",
      "0      1\n",
      "Name: count, dtype: int64\n"
     ]
    }
   ],
   "source": [
    "comuna_detalle = df_hechos2['COMUNA'].value_counts()\n",
    "print(comuna_detalle)"
   ]
  },
  {
   "cell_type": "markdown",
   "metadata": {},
   "source": [
    "Notamos que hay un registro de Comuna con valor 0, y luego de investigar, no existe tal comuna, así que miramos en detalle la fila con dicho valor."
   ]
  },
  {
   "cell_type": "code",
   "execution_count": 946,
   "metadata": {},
   "outputs": [
    {
     "name": "stdout",
     "output_type": "stream",
     "text": [
      "            ID  N_VICTIMAS      FECHA  AAAA  MM  DD  HH       LUGAR_DEL_HECHO  \\\n",
      "139  2016-0174           1 2016-12-27  2016  12  27   0  AUTOPISTA 25 DE MAYO   \n",
      "\n",
      "    TIPO_DE_CALLE                 Calle      Cruce  COMUNA      pos x  \\\n",
      "139     AUTOPISTA  AUTOPISTA 25 DE MAYO  SIN CRUCE       0 -58.401234   \n",
      "\n",
      "         pos y PARTICIPANTES VICTIMA ACUSADO  \n",
      "139 -34.620586         SD-SD      SD      SD  \n"
     ]
    }
   ],
   "source": [
    "fila_cero = df_hechos2[df_hechos2['COMUNA'] == 0]\n",
    "print(fila_cero)"
   ]
  },
  {
   "cell_type": "markdown",
   "metadata": {},
   "source": [
    "Dado que tiene varios datos relevantes ausentes y que se trata de una única fila, tomo la decisión de eliminarla. "
   ]
  },
  {
   "cell_type": "code",
   "execution_count": 947,
   "metadata": {},
   "outputs": [],
   "source": [
    "df_hechos2.drop(df_hechos2[df_hechos2['ID'] == '2016-0174'].index, inplace=True)"
   ]
  },
  {
   "cell_type": "markdown",
   "metadata": {},
   "source": [
    "**Victima**"
   ]
  },
  {
   "cell_type": "code",
   "execution_count": 948,
   "metadata": {},
   "outputs": [
    {
     "name": "stdout",
     "output_type": "stream",
     "text": [
      "VICTIMA\n",
      "MOTO           295\n",
      "PEATON         263\n",
      "AUTO            83\n",
      "BICICLETA       29\n",
      "SD               8\n",
      "CARGAS           7\n",
      "PASAJEROS        5\n",
      "MOVIL            2\n",
      "OBJETO FIJO      1\n",
      "PEATON_MOTO      1\n",
      "Name: count, dtype: int64\n"
     ]
    }
   ],
   "source": [
    "victimas_detalles = df_hechos2['VICTIMA'].value_counts()\n",
    "print(victimas_detalles)"
   ]
  },
  {
   "cell_type": "markdown",
   "metadata": {},
   "source": [
    "EL dato peaton_moto pareciera estar errado, así que vemos en detalle dicho valor"
   ]
  },
  {
   "cell_type": "code",
   "execution_count": 949,
   "metadata": {},
   "outputs": [
    {
     "name": "stdout",
     "output_type": "stream",
     "text": [
      "            ID  N_VICTIMAS      FECHA  AAAA  MM  DD  HH  \\\n",
      "583  2020-0063           2 2020-12-05  2020  12   5   7   \n",
      "\n",
      "              LUGAR_DEL_HECHO TIPO_DE_CALLE       Calle        Cruce  COMUNA  \\\n",
      "583  NUEVA YORK Y ALTA GRACIA         CALLE  NUEVA YORK  ALTA GRACIA      11   \n",
      "\n",
      "         pos x     pos y     PARTICIPANTES      VICTIMA ACUSADO  \n",
      "583 -58.527838 -34.61047  PEATON_MOTO-MOTO  PEATON_MOTO    MOTO  \n"
     ]
    }
   ],
   "source": [
    "fila_peaton_moto = df_hechos2[df_hechos2['VICTIMA'] == 'PEATON_MOTO']\n",
    "print(fila_peaton_moto)"
   ]
  },
  {
   "cell_type": "markdown",
   "metadata": {},
   "source": [
    "Dicho y hecho, probablemente confundieron el valor de participantes y se volvió a cargar ese dato en la columna VICTIMA, cuando debieron cargar únicamente PEATON"
   ]
  },
  {
   "cell_type": "code",
   "execution_count": 950,
   "metadata": {},
   "outputs": [],
   "source": [
    "df_hechos2.loc[df_hechos2['VICTIMA'] == 'PEATON_MOTO', 'VICTIMA'] = 'PEATON'"
   ]
  },
  {
   "cell_type": "code",
   "execution_count": 951,
   "metadata": {},
   "outputs": [
    {
     "name": "stdout",
     "output_type": "stream",
     "text": [
      "<class 'pandas.core.frame.DataFrame'>\n",
      "Index: 694 entries, 0 to 695\n",
      "Data columns (total 17 columns):\n",
      " #   Column             Non-Null Count  Dtype         \n",
      "---  ------             --------------  -----         \n",
      " 0   id                 694 non-null    object        \n",
      " 1   cantidad_victimas  694 non-null    int64         \n",
      " 2   fecha              694 non-null    datetime64[ns]\n",
      " 3   anio               694 non-null    int64         \n",
      " 4   mes                694 non-null    int64         \n",
      " 5   dia                694 non-null    int64         \n",
      " 6   franja_hora        694 non-null    int64         \n",
      " 7   lugar_hecho        694 non-null    object        \n",
      " 8   tipo_calle         694 non-null    object        \n",
      " 9   calle              694 non-null    object        \n",
      " 10  cruce              694 non-null    object        \n",
      " 11  comuna             694 non-null    int64         \n",
      " 12  longitud           694 non-null    float64       \n",
      " 13  latitud            694 non-null    float64       \n",
      " 14  participantes      694 non-null    object        \n",
      " 15  victima            694 non-null    object        \n",
      " 16  acusado            694 non-null    object        \n",
      "dtypes: datetime64[ns](1), float64(2), int64(6), object(8)\n",
      "memory usage: 97.6+ KB\n"
     ]
    }
   ],
   "source": [
    "# Cambiamos nombre de columnas para normalizar datos y unificar con la segunda tabla\n",
    "df_hechos2.rename(columns={'pos y': 'latitud'}, inplace=True)\n",
    "df_hechos2.rename(columns={'pos x': 'longitud'}, inplace=True)\n",
    "df_hechos2.rename(columns={'ID': 'id'}, inplace=True)\n",
    "df_hechos2.rename(columns={'N_VICTIMAS': 'cantidad_victimas'}, inplace=True)\n",
    "df_hechos2.rename(columns={'FECHA': 'fecha'}, inplace=True)\n",
    "df_hechos2.rename(columns={'AAAA': 'anio'}, inplace=True)\n",
    "df_hechos2.rename(columns={'MM': 'mes'}, inplace=True)\n",
    "df_hechos2.rename(columns={'DD': 'dia'}, inplace=True)\n",
    "df_hechos2.rename(columns={'HH': 'franja_hora'}, inplace=True)\n",
    "df_hechos2.rename(columns={'LUGAR_DEL_HECHO': 'lugar_hecho'}, inplace=True)\n",
    "df_hechos2.rename(columns={'TIPO_DE_CALLE': 'tipo_calle'}, inplace=True)\n",
    "df_hechos2.rename(columns={'Calle': 'calle'}, inplace=True)\n",
    "df_hechos2.rename(columns={'Cruce': 'cruce'}, inplace=True)\n",
    "df_hechos2.rename(columns={'COMUNA': 'comuna'}, inplace=True)\n",
    "df_hechos2.rename(columns={'PARTICIPANTES': 'participantes'}, inplace=True)\n",
    "df_hechos2.rename(columns={'VICTIMA': 'victima'}, inplace=True)\n",
    "df_hechos2.rename(columns={'ACUSADO': 'acusado'}, inplace=True)\n",
    "df_hechos2.info()"
   ]
  },
  {
   "cell_type": "markdown",
   "metadata": {},
   "source": [
    "**Victimas**"
   ]
  },
  {
   "cell_type": "code",
   "execution_count": 952,
   "metadata": {},
   "outputs": [
    {
     "name": "stdout",
     "output_type": "stream",
     "text": [
      "<class 'pandas.core.frame.DataFrame'>\n",
      "RangeIndex: 717 entries, 0 to 716\n",
      "Data columns (total 4 columns):\n",
      " #   Column        Non-Null Count  Dtype \n",
      "---  ------        --------------  ----- \n",
      " 0   id            717 non-null    object\n",
      " 1   rol_victima   717 non-null    object\n",
      " 2   sexo_victima  717 non-null    object\n",
      " 3   edad_victima  717 non-null    int64 \n",
      "dtypes: int64(1), object(3)\n",
      "memory usage: 22.5+ KB\n"
     ]
    }
   ],
   "source": [
    "# Cambiamos nombre de columnas para normalizar datos y unificar con la primera tabla\n",
    "\n",
    "df_victimas2.rename(columns={'ID_hecho': 'id'}, inplace=True)\n",
    "df_victimas2.rename(columns={'ROL': 'rol_victima'}, inplace=True)\n",
    "df_victimas2.rename(columns={'SEXO': 'sexo_victima'}, inplace=True)\n",
    "df_victimas2.rename(columns={'EDAD': 'edad_victima'}, inplace=True)\n",
    "df_victimas2.info()"
   ]
  },
  {
   "cell_type": "markdown",
   "metadata": {},
   "source": [
    "## CARGA"
   ]
  },
  {
   "cell_type": "code",
   "execution_count": 953,
   "metadata": {},
   "outputs": [],
   "source": [
    "df_hechos2.to_csv('hechos_ETL.csv', index=False)\n",
    "df_victimas2.to_csv('victimas_ETL.csv', index=False)"
   ]
  },
  {
   "cell_type": "markdown",
   "metadata": {},
   "source": [
    "# COMUNAS"
   ]
  },
  {
   "cell_type": "code",
   "execution_count": 954,
   "metadata": {},
   "outputs": [
    {
     "name": "stdout",
     "output_type": "stream",
     "text": [
      "<class 'pandas.core.frame.DataFrame'>\n",
      "RangeIndex: 15 entries, 0 to 14\n",
      "Data columns (total 7 columns):\n",
      " #   Column     Non-Null Count  Dtype  \n",
      "---  ------     --------------  -----  \n",
      " 0   id         15 non-null     int64  \n",
      " 1   objeto     15 non-null     object \n",
      " 2   comuna     15 non-null     int64  \n",
      " 3   barrios    15 non-null     object \n",
      " 4   perimetro  15 non-null     float64\n",
      " 5   area       15 non-null     float64\n",
      " 6   geometry   15 non-null     object \n",
      "dtypes: float64(2), int64(2), object(3)\n",
      "memory usage: 972.0+ bytes\n"
     ]
    }
   ],
   "source": [
    "df_comunas = pd.read_csv(\"comunas.csv\", encoding='latin1')\n",
    "df_comunas.info()"
   ]
  },
  {
   "cell_type": "code",
   "execution_count": 955,
   "metadata": {},
   "outputs": [
    {
     "data": {
      "text/html": [
       "<div>\n",
       "<style scoped>\n",
       "    .dataframe tbody tr th:only-of-type {\n",
       "        vertical-align: middle;\n",
       "    }\n",
       "\n",
       "    .dataframe tbody tr th {\n",
       "        vertical-align: top;\n",
       "    }\n",
       "\n",
       "    .dataframe thead th {\n",
       "        text-align: right;\n",
       "    }\n",
       "</style>\n",
       "<table border=\"1\" class=\"dataframe\">\n",
       "  <thead>\n",
       "    <tr style=\"text-align: right;\">\n",
       "      <th></th>\n",
       "      <th>comuna</th>\n",
       "      <th>barrios</th>\n",
       "    </tr>\n",
       "  </thead>\n",
       "  <tbody>\n",
       "    <tr>\n",
       "      <th>0</th>\n",
       "      <td>1</td>\n",
       "      <td>CONSTITUCION, MONSERRAT, RETIRO, PUERTO MADERO...</td>\n",
       "    </tr>\n",
       "    <tr>\n",
       "      <th>1</th>\n",
       "      <td>2</td>\n",
       "      <td>RECOLETA</td>\n",
       "    </tr>\n",
       "    <tr>\n",
       "      <th>2</th>\n",
       "      <td>3</td>\n",
       "      <td>SAN CRISTOBAL, BALVANERA</td>\n",
       "    </tr>\n",
       "    <tr>\n",
       "      <th>3</th>\n",
       "      <td>4</td>\n",
       "      <td>BARRACAS, BOCA, PARQUE PATRICIOS, NUEVA POMPEYA</td>\n",
       "    </tr>\n",
       "    <tr>\n",
       "      <th>4</th>\n",
       "      <td>5</td>\n",
       "      <td>ALMAGRO, BOEDO</td>\n",
       "    </tr>\n",
       "  </tbody>\n",
       "</table>\n",
       "</div>"
      ],
      "text/plain": [
       "   comuna                                            barrios\n",
       "0       1  CONSTITUCION, MONSERRAT, RETIRO, PUERTO MADERO...\n",
       "1       2                                           RECOLETA\n",
       "2       3                           SAN CRISTOBAL, BALVANERA\n",
       "3       4    BARRACAS, BOCA, PARQUE PATRICIOS, NUEVA POMPEYA\n",
       "4       5                                     ALMAGRO, BOEDO"
      ]
     },
     "execution_count": 955,
     "metadata": {},
     "output_type": "execute_result"
    }
   ],
   "source": [
    "df_comunas.drop(['id', 'objeto', 'perimetro', 'area', 'geometry'], axis=1, inplace=True)\n",
    "df_comunas.head()"
   ]
  },
  {
   "cell_type": "code",
   "execution_count": 956,
   "metadata": {},
   "outputs": [],
   "source": [
    "df_comunas.to_csv('comunas_ETL.csv', index=False, encoding = 'latin1')"
   ]
  }
 ],
 "metadata": {
  "kernelspec": {
   "display_name": "venv",
   "language": "python",
   "name": "python3"
  },
  "language_info": {
   "codemirror_mode": {
    "name": "ipython",
    "version": 3
   },
   "file_extension": ".py",
   "mimetype": "text/x-python",
   "name": "python",
   "nbconvert_exporter": "python",
   "pygments_lexer": "ipython3",
   "version": "3.12.4"
  }
 },
 "nbformat": 4,
 "nbformat_minor": 2
}
